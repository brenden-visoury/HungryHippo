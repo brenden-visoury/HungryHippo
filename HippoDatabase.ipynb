{
 "cells": [
  {
   "cell_type": "code",
   "execution_count": 2,
   "metadata": {},
   "outputs": [
    {
     "name": "stdout",
     "output_type": "stream",
     "text": [
      "Table created\n"
     ]
    }
   ],
   "source": [
    "\n",
    "import sqlite3\n",
    "\n",
    "try:\n",
    "\n",
    "    con = sqlite3.connect('HungryHippoDB.db')\n",
    "    cur = con.cursor()\n",
    "    \n",
    "    cur.execute(\"drop table if exists Property_Values\")\n",
    "    \n",
    "    cur.execute('''CREATE TABLE Property_Values\n",
    "                   (\n",
    "          bathrooms int,\n",
    "          bedrooms int,\n",
    "          listingStatus text,\n",
    "          zpid text,\n",
    "          longitude int,\n",
    "          latitude int,\n",
    "          address text,\n",
    "          livingArea text,\n",
    "          propertyType text,\n",
    "          country text,\n",
    "          currency text,\n",
    "          listingDateTime blob,\n",
    "          price numberic\n",
    "          )''')\n",
    "except Exception as E:\n",
    "    print('Error :', E)\n",
    "else:\n",
    "    print('Table created')"
   ]
  },
  {
   "cell_type": "code",
   "execution_count": null,
   "metadata": {},
   "outputs": [],
   "source": []
  },
  {
   "cell_type": "code",
   "execution_count": null,
   "metadata": {},
   "outputs": [],
   "source": []
  }
 ],
 "metadata": {
  "kernelspec": {
   "display_name": "Python 3",
   "language": "python",
   "name": "python3"
  },
  "language_info": {
   "codemirror_mode": {
    "name": "ipython",
    "version": 3
   },
   "file_extension": ".py",
   "mimetype": "text/x-python",
   "name": "python",
   "nbconvert_exporter": "python",
   "pygments_lexer": "ipython3",
   "version": "3.7.3"
  }
 },
 "nbformat": 4,
 "nbformat_minor": 2
}
